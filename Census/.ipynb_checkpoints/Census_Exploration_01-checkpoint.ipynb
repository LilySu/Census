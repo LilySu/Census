{
 "cells": [
  {
   "cell_type": "code",
   "execution_count": null,
   "metadata": {},
   "outputs": [
    {
     "name": "stdout",
     "output_type": "stream",
     "text": [
      "Collecting CensusData\n",
      "  Downloading https://files.pythonhosted.org/packages/7f/9d/e3be1b69dd0d300e08c46e902673cdbd28b4a5cdd028480d946e972bae9e/CensusData-1.6.tar.gz (23.2MB)\n",
      "Requirement already satisfied: pandas in c:\\users\\lilyx\\anaconda3\\lib\\site-packages (from CensusData) (0.25.1)\n",
      "Requirement already satisfied: requests in c:\\users\\lilyx\\anaconda3\\lib\\site-packages (from CensusData) (2.22.0)\n",
      "Requirement already satisfied: pytz>=2017.2 in c:\\users\\lilyx\\appdata\\roaming\\python\\python37\\site-packages (from pandas->CensusData) (2018.7)\n",
      "Requirement already satisfied: python-dateutil>=2.6.1 in c:\\users\\lilyx\\appdata\\roaming\\python\\python37\\site-packages (from pandas->CensusData) (2.7.5)\n",
      "Requirement already satisfied: numpy>=1.13.3 in c:\\users\\lilyx\\anaconda3\\lib\\site-packages (from pandas->CensusData) (1.16.5)\n",
      "Requirement already satisfied: certifi>=2017.4.17 in c:\\users\\lilyx\\appdata\\roaming\\python\\python37\\site-packages (from requests->CensusData) (2019.3.9)\n",
      "Requirement already satisfied: idna<2.9,>=2.5 in c:\\users\\lilyx\\anaconda3\\lib\\site-packages (from requests->CensusData) (2.8)\n",
      "Requirement already satisfied: chardet<3.1.0,>=3.0.2 in c:\\users\\lilyx\\appdata\\roaming\\python\\python37\\site-packages (from requests->CensusData) (3.0.4)\n",
      "Requirement already satisfied: urllib3!=1.25.0,!=1.25.1,<1.26,>=1.21.1 in c:\\users\\lilyx\\appdata\\roaming\\python\\python37\\site-packages (from requests->CensusData) (1.24.3)\n",
      "Requirement already satisfied: six>=1.5 in c:\\users\\lilyx\\appdata\\roaming\\python\\python37\\site-packages (from python-dateutil>=2.6.1->pandas->CensusData) (1.11.0)\n",
      "Building wheels for collected packages: CensusData\n",
      "  Building wheel for CensusData (setup.py): started\n",
      "  Building wheel for CensusData (setup.py): finished with status 'done'\n",
      "  Created wheel for CensusData: filename=CensusData-1.6-cp37-none-any.whl size=24706087 sha256=86081fd8ed355a3fe84eed2902c30795d0048f8553184d381bc81714a83dee20\n",
      "  Stored in directory: C:\\Users\\lilyx\\AppData\\Local\\pip\\Cache\\wheels\\3f\\59\\f5\\606d55c2e988301e2ba860bbfd7fd9a2d993edbb6d8683f639\n",
      "Successfully built CensusData\n",
      "Installing collected packages: CensusData\n",
      "Successfully installed CensusData-1.6\n"
     ]
    }
   ],
   "source": [
    "!pip install CensusData\n",
    "!conda install -c anaconda pip\n",
    "!onda install -c anaconda pandas"
   ]
  },
  {
   "cell_type": "code",
   "execution_count": null,
   "metadata": {},
   "outputs": [],
   "source": [
    "import censusdata\n",
    "import pandas as pd\n",
    "\n",
    "# the last five labels that have the word unemploy in them\n",
    "# censusdata.search(src='acs5', year = 2017, field = 'label', criterion = 'employed' )"
   ]
  },
  {
   "cell_type": "code",
   "execution_count": null,
   "metadata": {},
   "outputs": [],
   "source": [
    "my_vars = [\"B27011_003E\",\n",
    "           \"B27011_004E\",\n",
    "           \"B27011_003E\",\n",
    "           \"B27011_004E\",\n",
    "           \"B27011_005E\",\n",
    "           \"B27011_006E\",\n",
    "           \"B27011_007E\",\n",
    "           \"B27011_008E\",\n",
    "           \"B27011_009E\",\n",
    "           \"B27011_010E\",\n",
    "           \"B27011_011E\",\n",
    "           \"B27011_012E\",\n",
    "           \"B27011_013E\",\n",
    "           \"B27011_014E\",\n",
    "           \"B27011_015E\",\n",
    "           \"B27011_016E\",\n",
    "           \"B27011_017E\",\n",
    "          ]\n",
    "\n",
    "geography_of_interest = [(\"state\", \"*\"),(\"congressional district\", \"*\")]\n",
    "my_geo = censusdata.censusgeo(geo = geography_of_interest)\n",
    "\n",
    "dataCongD = censusdata.download(src = 'acs5', year = 2017, geo = my_geo, var = my_vars)\n",
    "dataCongD.head(2)"
   ]
  },
  {
   "cell_type": "code",
   "execution_count": null,
   "metadata": {},
   "outputs": [],
   "source": [
    "dataCongD.shape"
   ]
  },
  {
   "cell_type": "code",
   "execution_count": null,
   "metadata": {},
   "outputs": [],
   "source": [
    "censusdata.printtable(censusdata.censustable(src = 'acs5', year = 2017, table = 'B27011'))"
   ]
  },
  {
   "cell_type": "code",
   "execution_count": null,
   "metadata": {},
   "outputs": [],
   "source": [
    "rename_vars = {\n",
    "           \"B27011_003E\": \"Total\",\n",
    "           \"B27011_004E\": \"InLaborForce\",\n",
    "           \"B27011_003E\": \"LFEmployedTotal\",\n",
    "           \"B27011_004E\": \"LFE18-64y\",\n",
    "           \"B27011_005E\": \"LFE18-64yHealth\",\n",
    "           \"B27011_006E\": \"LFE18-64yPrivateHealth\",\n",
    "           \"B27011_007E\": \"LFE18-64yPublicHealth\",\n",
    "           \"B27011_008E\": \"LFE18-64yNoHealth\",\n",
    "           \"B27011_009E\": \"LFE-65+\",\n",
    "           \"B27011_010E\": \"LFE-65+Health\",\n",
    "           \"B27011_011E\": \"LFE-65+PrivateHealth\",\n",
    "           \"B27011_012E\": \"LFE-65+PublicHealth\",\n",
    "           \"B27011_013E\": \"LFE-65+NoHealth\",\n",
    "           \"B27011_014E\": \"LFUnEmployedTotal\",\n",
    "           \"B27011_015E\": \"LFUE18-64y\",\n",
    "           \"B27011_016E\": \"LFUE18-64yHealth\",\n",
    "           \"B27011_017E\": \"LFUE18-64yPrivateHealth\"\n",
    "}\n",
    "dataCongD = dataCongD.rename(mapper = rename_vars, axis = 1)\n",
    "dataCongD.head(1)"
   ]
  },
  {
   "cell_type": "code",
   "execution_count": null,
   "metadata": {},
   "outputs": [],
   "source": [
    "geography_of_interest = [(\"state\", \"*\"),(\"county\", \"*\")]\n",
    "my_geo = censusdata.censusgeo(geo = geography_of_interest)\n",
    "\n",
    "dataCounty = censusdata.download(src = 'acs5', year = 2017, geo = my_geo, var = my_vars)\n",
    "dataCounty = dataCounty.rename(mapper = rename_vars, axis = 1)\n",
    "dataCounty.head(1)"
   ]
  },
  {
   "cell_type": "code",
   "execution_count": null,
   "metadata": {},
   "outputs": [],
   "source": [
    "dataCounty.shape"
   ]
  },
  {
   "cell_type": "code",
   "execution_count": null,
   "metadata": {},
   "outputs": [],
   "source": [
    "dataCounty['index'].dtypes"
   ]
  },
  {
   "cell_type": "code",
   "execution_count": null,
   "metadata": {},
   "outputs": [],
   "source": [
    "test = str(dataCounty.iloc[0]['index'])\n",
    "# test.replace(\"censusgeo((('state', '\", \"\")\n",
    "# test.replace(\"'), ('county', '\", \"\")\n",
    "test"
   ]
  },
  {
   "cell_type": "code",
   "execution_count": null,
   "metadata": {},
   "outputs": [],
   "source": [
    "dataCounty.iloc[0]['index']"
   ]
  },
  {
   "cell_type": "code",
   "execution_count": null,
   "metadata": {},
   "outputs": [],
   "source": [
    "ind = str(dataCounty.iloc[0]['index'])"
   ]
  },
  {
   "cell_type": "code",
   "execution_count": null,
   "metadata": {},
   "outputs": [],
   "source": [
    "geodict = dict(dataCounty.iloc[0]['index'].request())\n",
    "# countystr = str(geodict['for'])\n",
    "# statestr = str(geodict['in'])\n",
    "# [int(s) for s in statestr.split() if s.isdigit()]\n",
    "geodict"
   ]
  },
  {
   "cell_type": "code",
   "execution_count": null,
   "metadata": {},
   "outputs": [],
   "source": [
    "type(dataCounty.iloc[0]['index'])"
   ]
  },
  {
   "cell_type": "code",
   "execution_count": null,
   "metadata": {},
   "outputs": [],
   "source": [
    "import re\n",
    "re.findall(r'\\d+',statestr)"
   ]
  },
  {
   "cell_type": "code",
   "execution_count": null,
   "metadata": {},
   "outputs": [],
   "source": [
    "dataCounty['index'].values"
   ]
  },
  {
   "cell_type": "code",
   "execution_count": null,
   "metadata": {},
   "outputs": [],
   "source": [
    "geography_of_interest = [(\"zip code tabulation area\", \"*\")]\n",
    "my_geo = censusdata.censusgeo(geo = geography_of_interest)\n",
    "\n",
    "dataZip = censusdata.download(src = 'acs5', year = 2017, geo = my_geo, var = my_vars)\n",
    "dataZip = dataZip.rename(mapper = rename_vars, axis = 1)\n",
    "dataZip.head(1)"
   ]
  },
  {
   "cell_type": "code",
   "execution_count": null,
   "metadata": {},
   "outputs": [],
   "source": [
    "dataZip.shape"
   ]
  },
  {
   "cell_type": "code",
   "execution_count": null,
   "metadata": {},
   "outputs": [],
   "source": [
    "df = pd.read_csv('all-geocodes-v2017nationalpluspr_17.csv')\n",
    "df.head(2)"
   ]
  },
  {
   "cell_type": "code",
   "execution_count": null,
   "metadata": {},
   "outputs": [],
   "source": [
    "# a = 5\n",
    "def convertTo2digits(a):\n",
    "    return \"{0:0=2d}\".format(a)\n",
    "# convertTo2digits(a)\n",
    "\n",
    "def convertTo3digits(a):\n",
    "    return \"{0:0=3d}\".format(a)\n",
    "# convertTo3digits(a)"
   ]
  },
  {
   "cell_type": "code",
   "execution_count": null,
   "metadata": {},
   "outputs": [],
   "source": [
    "df['State Code (FIPS)'] = df['State Code (FIPS)'].apply(convertTo2digits)\n",
    "df['State Code (FIPS)']"
   ]
  },
  {
   "cell_type": "code",
   "execution_count": null,
   "metadata": {},
   "outputs": [],
   "source": [
    "df['County Code (FIPS)'] = df['County Code (FIPS)'].apply(convertTo3digits)\n",
    "df['County Code (FIPS)']"
   ]
  },
  {
   "cell_type": "code",
   "execution_count": null,
   "metadata": {},
   "outputs": [],
   "source": [
    "df['FIPS6-4'] = df['State Code (FIPS)'] + df['County Code (FIPS)']\n",
    "df['FIPS6-4']"
   ]
  },
  {
   "cell_type": "code",
   "execution_count": null,
   "metadata": {},
   "outputs": [],
   "source": [
    "df.loc[df['Area Name (including legal/statistical area description)']=='Crawford township', 'FIPS6-4']"
   ]
  },
  {
   "cell_type": "code",
   "execution_count": null,
   "metadata": {},
   "outputs": [],
   "source": []
  },
  {
   "cell_type": "code",
   "execution_count": null,
   "metadata": {},
   "outputs": [],
   "source": []
  },
  {
   "cell_type": "code",
   "execution_count": null,
   "metadata": {},
   "outputs": [],
   "source": []
  },
  {
   "cell_type": "code",
   "execution_count": null,
   "metadata": {},
   "outputs": [],
   "source": []
  }
 ],
 "metadata": {
  "kernelspec": {
   "display_name": "Python 3",
   "language": "python",
   "name": "python3"
  },
  "language_info": {
   "codemirror_mode": {
    "name": "ipython",
    "version": 3
   },
   "file_extension": ".py",
   "mimetype": "text/x-python",
   "name": "python",
   "nbconvert_exporter": "python",
   "pygments_lexer": "ipython3",
   "version": "3.7.4"
  }
 },
 "nbformat": 4,
 "nbformat_minor": 4
}
